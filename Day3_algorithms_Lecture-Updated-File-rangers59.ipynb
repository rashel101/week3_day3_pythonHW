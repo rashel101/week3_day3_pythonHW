{
 "cells": [
  {
   "cell_type": "markdown",
   "metadata": {},
   "source": [
    "# Algorithms, Binary Search & Linked Lists"
   ]
  },
  {
   "cell_type": "markdown",
   "metadata": {},
   "source": [
    "## Tasks Today:\n",
    " \n",
    "1) <b>In-Place Algorithms</b> <br>\n",
    " &nbsp;&nbsp;&nbsp;&nbsp; a) Syntax <br>\n",
    " &nbsp;&nbsp;&nbsp;&nbsp; a) Out of Place Algorithm <br>\n",
    " &nbsp;&nbsp;&nbsp;&nbsp; b) In-Class Exercise #1 <br>\n",
    "2) <b>Two Pointers</b> <br>\n",
    "3) <b>Linked Lists</b> <br>\n",
    "4) <b>Merge Sort</b> <br>\n",
    " &nbsp;&nbsp;&nbsp;&nbsp; a) Video on Algorithms <br>\n",
    " &nbsp;&nbsp;&nbsp;&nbsp; b) How it Works <br>\n",
    "5) <b>Exercises</b> <br>\n",
    " &nbsp;&nbsp;&nbsp;&nbsp; a) Exercise #1 - Reverse a List in Place Using an In-Place Algorithm <br>\n",
    " &nbsp;&nbsp;&nbsp;&nbsp; b) Exercise #2 - Find Distinct Words <br>\n",
    " &nbsp;&nbsp;&nbsp;&nbsp; c) Exercise #3 - Write a program to implement a Linear Search Algorithm. <br>"
   ]
  },
  {
   "cell_type": "markdown",
   "metadata": {},
   "source": [
    "## In-Place Algorithms"
   ]
  },
  {
   "cell_type": "markdown",
   "metadata": {},
   "source": [
    "#### Syntax"
   ]
  },
  {
   "cell_type": "code",
   "execution_count": 4,
   "metadata": {},
   "outputs": [
    {
     "name": "stdout",
     "output_type": "stream",
     "text": [
      "['Erin', 'Terrell', 'Eric', 'Sam']\n"
     ]
    }
   ],
   "source": [
    "#swapper\n",
    "# we want to swap the values at two indicies in our list\n",
    "# the main idea of an inplace algorithm is tat we modify data and dont make any copies\n",
    "def swap(alist,x,y):\n",
    "    alist[x],alist[y]= alist[y],alist[x]\n",
    "    return alist\n",
    "\n",
    "my_list= ['Sam', 'Terrell','Eric','Erin']\n",
    "print(swap(my_list,0,3))"
   ]
  },
  {
   "cell_type": "markdown",
   "metadata": {},
   "source": [
    "#### Out of Place Algorithm"
   ]
  },
  {
   "cell_type": "code",
   "execution_count": 8,
   "metadata": {},
   "outputs": [
    {
     "name": "stdout",
     "output_type": "stream",
     "text": [
      "['Sam', 'Eric', 'Terrell', 'Erin']\n",
      "['Erin', 'Terrell', 'Eric', 'Sam']\n"
     ]
    },
    {
     "data": {
      "text/plain": [
       "['a', 'd', 'c', 'b', 'a']"
      ]
     },
     "execution_count": 8,
     "metadata": {},
     "output_type": "execute_result"
    }
   ],
   "source": [
    "# reverse our list completely\n",
    "# mainidea of an out of place algorithm is that we maintain data intergrity and dont modify our original data structure\n",
    "my_list_copy= my_list[::-1]\n",
    "print(my_list)\n",
    "print(my_list_copy)\n",
    "\n",
    "array1= ['a','b','c','d']\n",
    "#input- some array\n",
    "#output- a new array that is the input array in reverse\n",
    "def reverse(array):\n",
    "    ans=[]\n",
    "    for i in range(len(array)+1):\n",
    "        ans.append(array[-i])\n",
    "    return ans\n",
    "\n",
    "newarr=reverse(array1)\n",
    "newarr"
   ]
  },
  {
   "cell_type": "code",
   "execution_count": null,
   "metadata": {},
   "outputs": [],
   "source": [
    "##outof place vs. in place in breif\n",
    "\n",
    "did i modify my input datta? if so probably out of place"
   ]
  },
  {
   "cell_type": "markdown",
   "metadata": {},
   "source": [
    "#### In-Class Exercise #1 <br>\n",
    "<p>Write a function that takes in four arguments (list, index1, index2, index3), and swaps those three positions in the list passed in.</p>"
   ]
  },
  {
   "cell_type": "code",
   "execution_count": 14,
   "metadata": {},
   "outputs": [
    {
     "name": "stdout",
     "output_type": "stream",
     "text": [
      "None\n",
      "None\n",
      "None\n"
     ]
    }
   ],
   "source": [
    "l_1 = [10, 4, 3, 8, 4, 2, 6]\n",
    "\n",
    "def swap3(thelist,x,y,z):\n",
    "    thelist[x],thelist[y], thelist[z]= thelist[z],thelist[x],thelist[y]\n",
    "print(swap3(l_1,1,3,5))\n",
    "print(swap3(l_1,1,3,5))\n",
    "print(swap3(l_1,1,3,5))\n",
    "#l_1[0], l_1[3] = l_1[3], l_1[0]\n",
    "\n",
    "#print(l_1)\n"
   ]
  },
  {
   "cell_type": "code",
   "execution_count": 22,
   "metadata": {},
   "outputs": [
    {
     "name": "stdout",
     "output_type": "stream",
     "text": [
      "[3]\n"
     ]
    }
   ],
   "source": [
    "#I want to in-place remove allo of the even numbers in our list\n",
    "\n",
    "def ipremove(alist):\n",
    "    i=0\n",
    "    while i <len(alist):\n",
    "        if alist[i]%2== 0:\n",
    "            alist.remove(alist[i])\n",
    "        else:\n",
    "            i+=1\n",
    "    return alist\n",
    "print(ipremove(l_1))"
   ]
  },
  {
   "cell_type": "markdown",
   "metadata": {},
   "source": [
    "## Two Pointers"
   ]
  },
  {
   "cell_type": "markdown",
   "metadata": {},
   "source": [
    "#### Syntax"
   ]
  },
  {
   "cell_type": "code",
   "execution_count": 17,
   "metadata": {},
   "outputs": [
    {
     "name": "stdout",
     "output_type": "stream",
     "text": [
      "10\n",
      "4\n",
      "3\n",
      "8\n",
      "4\n",
      "2\n",
      "6\n"
     ]
    }
   ],
   "source": [
    "#3 additional variables commonly used to keep track of something while looping\n",
    "#FLAG- BOOLEAN that controls a loop(usually a while loop) based off a certain condition\n",
    "flag=True\n",
    "#while flag: \n",
    "    #if a_conditional:\n",
    "        #flag= False\n",
    "#counter\n",
    "i= 0\n",
    "while i<10:\n",
    "    if our_thing_happened\n",
    "    i+=1\n",
    "#pointer\n",
    "n=0\n",
    "while n< len(l_1):\n",
    "    print(l_1[n])\n",
    "    n+=1"
   ]
  },
  {
   "cell_type": "code",
   "execution_count": 23,
   "metadata": {},
   "outputs": [
    {
     "data": {
      "text/plain": [
       "[8, 7, 6, 5, 4, 3, 2, 1]"
      ]
     },
     "execution_count": 23,
     "metadata": {},
     "output_type": "execute_result"
    }
   ],
   "source": [
    "#alist[left], alist[right]= alist[right], alist[left]\n",
    "def twoPointers(alist):\n",
    "    left= 0\n",
    "    right= len(alist)-1\n",
    "    while left<= right:\n",
    "        alist[left], alist[right]= alist[right], alist[left]\n",
    "        left+= 1\n",
    "        right-= 1\n",
    "    return alist\n",
    "my_list2= [1,2,3,4,5,6,7,8]\n",
    "twoPointers(my_list2)\n",
    "    "
   ]
  },
  {
   "cell_type": "code",
   "execution_count": 28,
   "metadata": {},
   "outputs": [
    {
     "name": "stdout",
     "output_type": "stream",
     "text": [
      "[0, 3, 5, 6, 7, 7, 8]\n"
     ]
    }
   ],
   "source": [
    "list1= [3,5,7,8]\n",
    "list2=[0,6,7,9]\n",
    "#my goal is to merge the two list in sorted order\n",
    "newlist= sorted(list1+list2)#o(n*log(n))\n",
    "newlist\n",
    "\n",
    "def pointy(lista,listb):\n",
    "    x=0\n",
    "    y=0\n",
    "    ans= []\n",
    "    while x<len(lista) and y<len(listb):\n",
    "        if lista[x]<listb[y]:\n",
    "            ans.append(lista[x])\n",
    "            x+= 1\n",
    "        else:\n",
    "            ans.append(listb[y])\n",
    "            y+= 1\n",
    "    return ans\n",
    "print(pointy(list1,list2))\n",
    "        "
   ]
  },
  {
   "cell_type": "code",
   "execution_count": null,
   "metadata": {},
   "outputs": [],
   "source": [
    "# how do i tell what time complexity?\n",
    "#we dont care about anything other then exponetial differences in our time complexity\n",
    "# most common time complexities:\n",
    "#O(1)\n",
    "#O(logn)\n",
    "#O(n)\n",
    "#O(nlogn)\n",
    "#O(n^2)\n",
    "#anything above quadratic time is really slow\n",
    "#O(n!)\n",
    "#O(n^n)\n",
    "# what takes what time\n",
    "# any loop through an iterable takes O(n)\n",
    "# some operations such as removing from a list are O(n)\n",
    "#checking for a membership( if i in alist)in lists taskes O(n)\n",
    "#what about bad time complexity? where does that come from\n",
    "#nesting\n",
    "# having an o(n) or worse operation that occurs every time anotherO(n) or worse operation runs\n",
    "# nested for loops (loops in a loop)\n",
    "#removing inside a for loop\n",
    "\n",
    "# determine whether or not the amount of steps an operation takes scales with number of inputs \n",
    "# determine whether or not a scaling operation occurs in full every time another operation steps\n",
    "# what about multiple loops that arent nested?\n",
    "#simplification\n",
    "\n",
    "alist= list(range(1,11))#O(n)\n",
    "for x in alist:#O(n)\n",
    "    print(x)\n",
    "for x in alist: #O(n)\n",
    "    print(x)\n",
    "    \n",
    "#O(3*n)= O(n+n+n)= O(n) becaus inifinty * 3= infinity"
   ]
  },
  {
   "cell_type": "markdown",
   "metadata": {},
   "source": [
    "#### Video of Algorithms <br>\n",
    "<p>Watch the video about algorithms.</p>\n",
    "https://www.youtube.com/watch?v=Q9HjeFD62Uk\n",
    "\n",
    "https://www.youtube.com/watch?v=kPRA0W1kECg\n",
    "\n",
    "https://www.youtube.com/watch?v=ZZuD6iUe3Pc"
   ]
  },
  {
   "cell_type": "markdown",
   "metadata": {},
   "source": [
    "# Sorting Algorithms"
   ]
  },
  {
   "cell_type": "markdown",
   "metadata": {},
   "source": [
    "#### Bubble Sort\n",
    "\n",
    "Worst Case: O(n^2) Time - O(1) Space"
   ]
  },
  {
   "cell_type": "code",
   "execution_count": 31,
   "metadata": {},
   "outputs": [
    {
     "data": {
      "text/plain": [
       "[1, 3, 6, 9, 23, 56]"
      ]
     },
     "execution_count": 31,
     "metadata": {},
     "output_type": "execute_result"
    }
   ],
   "source": [
    "# best case: O(n) linear\n",
    "# helper function corrisponds to line 11\n",
    "def swap (i,j,array):\n",
    "    array[i],array[j]= array[j],array[i]\n",
    "    return array\n",
    "def bubblesSort(array):\n",
    "    # test to say are we done and if we are not done we need to loop through our list \n",
    "    #everytime we loop through our list we go backand check if we're done\n",
    "    isSorted= False\n",
    "    while not  isSorted:\n",
    "        isSorted =True\n",
    "        #loop through are list and compare each value in the list\n",
    "        #if the smaller index value is greater the bigger index value it will flip\n",
    "        \n",
    "        for i in range(len(array)-1):\n",
    "            if array[i]> array[i+1]:\n",
    "                swap(i,i+1, array)\n",
    "                isSorted= False # once everything is checked an din order it finishes the loop\n",
    "    return array\n",
    "bubblesSort([23,1,56,3,6,9])\n",
    "#best case would be giving it an already sorted list so it would have be linear\n",
    "#worst case would be if it was backwords"
   ]
  },
  {
   "cell_type": "markdown",
   "metadata": {},
   "source": [
    "##### Insertion Sort\n",
    "\n",
    "Worst Case: O(n^2) time - O(1)space"
   ]
  },
  {
   "cell_type": "code",
   "execution_count": 36,
   "metadata": {},
   "outputs": [
    {
     "data": {
      "text/plain": [
       "[1, 3, 6, 9, 23, 56]"
      ]
     },
     "execution_count": 36,
     "metadata": {},
     "output_type": "execute_result"
    }
   ],
   "source": [
    "#pulls an element out searches for correct spot in a list we built\n",
    "# each time we pull an elemet out we are going to comare the one before and after \n",
    "# similar to bubble we flip our for and while loop\n",
    "def swap(x, y,array):\n",
    "    array[x], array[y]=array[y], array[x]\n",
    "    return array\n",
    "\n",
    "\n",
    "def insertionSort(array):\n",
    "    for i in range(1, len(array)): # its not 0 as an index becasue theres is nothing to compare before the fist one\n",
    "        # controls which number we are pulling out \n",
    "        j= i \n",
    "        while j> 0 and array[j]< array[j-1]: # controlling where do i move an individual number\n",
    "            swap(j, j-1, array)#swapping\n",
    "            j -= 1\n",
    "    return array\n",
    "insertionSort([23,1,56,3,6,9])\n",
    "    "
   ]
  },
  {
   "cell_type": "markdown",
   "metadata": {},
   "source": [
    "## Merge Sort"
   ]
  },
  {
   "cell_type": "markdown",
   "metadata": {},
   "source": [
    "#### How it Works"
   ]
  },
  {
   "cell_type": "code",
   "execution_count": 39,
   "metadata": {},
   "outputs": [
    {
     "name": "stdout",
     "output_type": "stream",
     "text": [
      "splitting... [6, 9, 2, 3, 6, 7]\n",
      "splitting... [6, 9, 2]\n",
      "splitting... [6]\n",
      "merging: [6]\n",
      "splitting... [9, 2]\n",
      "splitting... [9]\n",
      "merging: [9]\n",
      "splitting... [2]\n",
      "merging: [2]\n",
      "merging: [2, 9]\n",
      "merging: [2, 6, 9]\n",
      "splitting... [3, 6, 7]\n",
      "splitting... [3]\n",
      "merging: [3]\n",
      "splitting... [6, 7]\n",
      "splitting... [6]\n",
      "merging: [6]\n",
      "splitting... [7]\n",
      "merging: [7]\n",
      "merging: [6, 7]\n",
      "merging: [3, 6, 7]\n",
      "merging: [2, 3, 6, 6, 7, 9]\n"
     ]
    },
    {
     "data": {
      "text/plain": [
       "[2, 3, 6, 6, 7, 9]"
      ]
     },
     "execution_count": 39,
     "metadata": {},
     "output_type": "execute_result"
    }
   ],
   "source": [
    "# recursion \n",
    "# a series of steps\n",
    "#1) splitting everything up into its own group\n",
    "#2) from left to right we're merging two groups together\n",
    "#3) while we merge pull items into correct order in the merged list\n",
    "#4) repeat steps 2/3/4 until we just have the one big list again\n",
    "\n",
    "def mergeSort(alist):\n",
    "    print(\"splitting...\", alist)\n",
    "    \n",
    "    #step 1\n",
    "    if len(alist)> 1: # dividing into indivual subs\n",
    "        mid = len(alist)//2\n",
    "        lefthalf= alist[:mid]\n",
    "        righthalf= alist[mid:]\n",
    "        \n",
    "        #recursive call\n",
    "        mergeSort(lefthalf)\n",
    "        mergeSort(righthalf)\n",
    "        \n",
    "        #index pointers # from here down its handling bringing th e subsections back together\n",
    "        i= 0 #left pointer\n",
    "        j=0 #right pointer\n",
    "        k=0 # main array\n",
    "        \n",
    "        #step 3 #\n",
    "        while i < len(lefthalf) and j < len(righthalf):\n",
    "                if lefthalf[i]< righthalf[j]:\n",
    "                    alist[k ]= lefthalf[i]\n",
    "                    i = i+1\n",
    "                else:\n",
    "                    alist[k]= righthalf[j]\n",
    "                    j= j+1\n",
    "                k= k+1\n",
    "            # step 3\n",
    "        while i < len(lefthalf): # left to add back to main array\n",
    "            alist[k]= lefthalf[i]\n",
    "            i= i+1\n",
    "            k=k+1\n",
    "        while j< len(righthalf): # right to add back to main array\n",
    "            alist[k]= righthalf[j]\n",
    "            j= j+1\n",
    "            k= k+1\n",
    "    print( \"merging:\", alist)\n",
    "    return alist\n",
    "mergeSort([6,9,2,3,6,7])"
   ]
  },
  {
   "cell_type": "markdown",
   "metadata": {},
   "source": [
    "# Binary Search\n",
    "\n",
    "The Binary Search algorithm works by finding the number in the middle of a given array and comparing it to the target. Given that the array is sorted\n",
    "\n",
    "* The worst case run time for this algorithm is `O(log(n))`"
   ]
  },
  {
   "cell_type": "code",
   "execution_count": 41,
   "metadata": {},
   "outputs": [
    {
     "data": {
      "text/plain": [
       "'the index of 3 is 1. yay.'"
      ]
     },
     "execution_count": 41,
     "metadata": {},
     "output_type": "execute_result"
    }
   ],
   "source": [
    "# find a value insid e a sorted list\n",
    "# array is the same thing as list \n",
    "# a binary search will be able to find your value in logn time \n",
    "# binary search tree: start at middle \n",
    "# smaller= left\n",
    "# greater== right \n",
    "#input array must be sorted\n",
    "\n",
    "def binarySearch( array,  target):\n",
    "    left= 0 #pointer\n",
    "    right= len(array)-1 # starts at the end of the arrray \n",
    "    while left<= right:\n",
    "        middle = (left+ right) // 2\n",
    "        potentialMatch= array[middle]\n",
    "        if target == potentialMatch:\n",
    "            return f'the index of {target} is {middle}. yay.'\n",
    "        elif target< potentialMatch:\n",
    "            right= middle-1\n",
    "        else:\n",
    "            left = middle+1\n",
    "    return f' its not her duh'\n",
    "binarySearch([1,3,6,9,23,56], 3)"
   ]
  },
  {
   "cell_type": "markdown",
   "metadata": {},
   "source": [
    "# Exercises"
   ]
  },
  {
   "cell_type": "markdown",
   "metadata": {},
   "source": [
    "### Exercise #1 <br>\n",
    "<p>Reverse the list below in-place using an in-place algorithm.<br>For extra credit: Reverse the strings at the same time.</p>"
   ]
  },
  {
   "cell_type": "code",
   "execution_count": 10,
   "metadata": {},
   "outputs": [
    {
     "name": "stdout",
     "output_type": "stream",
     "text": [
      "['this', 'is', 'a', 'sentence', '.']\n",
      "Reversed:\n",
      "['sentence', 'a', 'is', 'this', '.']\n"
     ]
    }
   ],
   "source": [
    "words = ['this' , 'is', 'a', 'sentence', '.']\n",
    "#in place algorithm\n",
    "def reverseList(word, start, end):\n",
    "    while start < end:\n",
    "        word[start], word[end] = word[end], word[start]\n",
    "        start += 1\n",
    "        end -= 1\n",
    "# testing the function\n",
    "print(words)\n",
    "reverseList(words, 0, 3)\n",
    "print(\"Reversed:\")\n",
    "print(words)"
   ]
  },
  {
   "cell_type": "markdown",
   "metadata": {},
   "source": [
    "### Exercise #2 <br>\n",
    "<p>Create a function that counts how many distinct words are in the string below, then outputs a dictionary with the words as the key and the value as the amount of times that word appears in the string.<br>Should output:<br>{'a': 5,<br>\n",
    " 'abstract': 1,<br>\n",
    " 'an': 3,<br>\n",
    " 'array': 2, ... etc...</p>"
   ]
  },
  {
   "cell_type": "code",
   "execution_count": 5,
   "metadata": {},
   "outputs": [
    {
     "name": "stdout",
     "output_type": "stream",
     "text": [
      "String\n",
      "In computing, a hash table hash map is a data structure which implements an associative array abstract data type, a structure that can map keys to values. A hash table uses a hash function to compute an index into an array of buckets or slots from which the desired value can be found\n",
      "\n",
      "List\n",
      "['In', 'computing,', 'a', 'hash', 'table', 'hash', 'map', 'is', 'a', 'data', 'structure', 'which', 'implements', 'an', 'associative', 'array', 'abstract', 'data', 'type,', 'a', 'structure', 'that', 'can', 'map', 'keys', 'to', 'values.', 'A', 'hash', 'table', 'uses', 'a', 'hash', 'function', 'to', 'compute', 'an', 'index', 'into', 'an', 'array', 'of', 'buckets', 'or', 'slots', 'from', 'which', 'the', 'desired', 'value', 'can', 'be', 'found']\n",
      "\n",
      "Output Answer\n",
      "[('In', 1), ('computing,', 1), ('a', 4), ('hash', 4), ('table', 2), ('hash', 4), ('map', 2), ('is', 1), ('a', 4), ('data', 2), ('structure', 2), ('which', 2), ('implements', 1), ('an', 3), ('associative', 1), ('array', 2), ('abstract', 1), ('data', 2), ('type,', 1), ('a', 4), ('structure', 2), ('that', 1), ('can', 2), ('map', 2), ('keys', 1), ('to', 2), ('values.', 1), ('A', 1), ('hash', 4), ('table', 2), ('uses', 1), ('a', 4), ('hash', 4), ('function', 1), ('to', 2), ('compute', 1), ('an', 3), ('index', 1), ('into', 1), ('an', 3), ('array', 2), ('of', 1), ('buckets', 1), ('or', 1), ('slots', 1), ('from', 1), ('which', 2), ('the', 1), ('desired', 1), ('value', 1), ('can', 2), ('be', 1), ('found', 1)]\n",
      "\n"
     ]
    }
   ],
   "source": [
    "a_text = 'In computing, a hash table hash map is a data structure which implements an associative array abstract data type, a structure that can map keys to values. A hash table uses a hash function to compute an index into an array of buckets or slots from which the desired value can be found'\n",
    "wordlist = a_text.split()\n",
    "\n",
    "wordfreq = []\n",
    "for w in wordlist:\n",
    "    wordfreq.append(wordlist.count(w))\n",
    "\n",
    "print(\"String\\n\" + a_text +\"\\n\")#just so i can see it better\n",
    "print(\"List\\n\" + str(wordlist) + \"\\n\")\n",
    "print(\"Output Answer\\n\" + str(list(zip(wordlist, wordfreq)))+ \"\\n\")\n",
    "#The zip() function returns a zip object, which is an iterator of tuples where the first item in each passed iterator is paired together,\n",
    "#and then the second item in each passed iterator are paired together etc."
   ]
  },
  {
   "cell_type": "markdown",
   "metadata": {},
   "source": [
    "## Exercise #3\n",
    "\n",
    "Write a program to implement a Linear Search Algorithm. Also in a comment, write the Time Complexity of the following algorithm.\n",
    "\n",
    "#### Hint: Linear Searching will require searching a list for a given number. "
   ]
  },
  {
   "cell_type": "code",
   "execution_count": 14,
   "metadata": {},
   "outputs": [
    {
     "name": "stdout",
     "output_type": "stream",
     "text": [
      "yay its in the index 2\n"
     ]
    }
   ],
   "source": [
    "# input some list some value to find the list\n",
    "# output the index which holds the value \n",
    " \n",
    "    # linearly search y in arry[]\n",
    "    #if y is included it returns the location otherwise it returns -1\n",
    "def find(arr,x,y):\n",
    "    for i in range(0,x):\n",
    "        if (arr[i]== y):\n",
    "            return i\n",
    "    return -1\n",
    "#executable code\n",
    "arr=[5,7,3,10,50]\n",
    "y= 3 #CHANGE THIS\n",
    "x= len(arr)\n",
    "\n",
    "#parameters\n",
    "result= find(arr,x,y)\n",
    "if(result ==-1):\n",
    "    print('not in array')\n",
    "else:\n",
    "    print('yay its in the index', result)\n",
    "    \n",
    "# because it has to search through the list im guessing the time\n",
    "#complexity is average time complexity (in an array) of O(n)"
   ]
  }
 ],
 "metadata": {
  "kernelspec": {
   "display_name": "Python 3",
   "language": "python",
   "name": "python3"
  },
  "language_info": {
   "codemirror_mode": {
    "name": "ipython",
    "version": 3
   },
   "file_extension": ".py",
   "mimetype": "text/x-python",
   "name": "python",
   "nbconvert_exporter": "python",
   "pygments_lexer": "ipython3",
   "version": "3.8.5"
  }
 },
 "nbformat": 4,
 "nbformat_minor": 2
}
